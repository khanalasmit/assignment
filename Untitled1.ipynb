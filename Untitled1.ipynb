{
 "cells": [
  {
   "cell_type": "code",
   "execution_count": 65,
   "id": "60df1e79-0577-4035-9d8a-8311a557f50e",
   "metadata": {},
   "outputs": [],
   "source": [
    "import numpy as np\n",
    "import pandas as pd\n"
   ]
  },
  {
   "cell_type": "code",
   "execution_count": 66,
   "id": "3688aaa1-f0b8-4bc8-8656-0f9202bdf4f5",
   "metadata": {},
   "outputs": [],
   "source": [
    "x=[100,150,200,250,300,350,400]\n",
    "y=[10.63,13.03,15.04,16.31,18.42,19.90,21.27]"
   ]
  },
  {
   "cell_type": "code",
   "execution_count": 67,
   "id": "422c86e3-12fe-4975-8882-9965aad70d71",
   "metadata": {},
   "outputs": [],
   "source": [
    "first_diff=[]\n",
    "for i in range(len(x)-1):\n",
    "    f_dif=y[i+1]-y[i]\n",
    "    first_diff.append(f_dif)"
   ]
  },
  {
   "cell_type": "code",
   "execution_count": 68,
   "id": "43ecb074-34d9-4e62-92fb-c2c3e1d2fa54",
   "metadata": {},
   "outputs": [
    {
     "data": {
      "text/plain": [
       "[2.3999999999999986,\n",
       " 2.01,\n",
       " 1.2699999999999996,\n",
       " 2.110000000000003,\n",
       " 1.4799999999999969,\n",
       " 1.370000000000001]"
      ]
     },
     "execution_count": 68,
     "metadata": {},
     "output_type": "execute_result"
    }
   ],
   "source": [
    "first_diff"
   ]
  },
  {
   "cell_type": "code",
   "execution_count": 69,
   "id": "7732a6da-f3c6-4cbb-a4e5-6ecc15d6572f",
   "metadata": {},
   "outputs": [],
   "source": [
    "second_diff=[]\n",
    "for i in range(len(first_diff)-1):\n",
    "    s_dif=first_diff[i+1]-first_diff[i]\n",
    "    second_diff.append(s_dif)"
   ]
  },
  {
   "cell_type": "code",
   "execution_count": 70,
   "id": "c12c77eb-73b8-4f6f-8fcf-e2c2e1daa7b8",
   "metadata": {},
   "outputs": [],
   "source": [
    "third_diff=[]\n",
    "for i in range(len(second_diff)-1):\n",
    "    t_dif=second_diff[i+1]-second_diff[i]\n",
    "    third_diff.append(t_dif)\n",
    "fourth_diff=[]\n",
    "for i in range(len(third_diff)-1):\n",
    "    fo_dif=third_diff[i+1]-third_diff[i]\n",
    "    fourth_diff.append(fo_dif)"
   ]
  },
  {
   "cell_type": "code",
   "execution_count": 71,
   "id": "4f196226-c087-4a45-bf5a-6a0aea08fa6d",
   "metadata": {},
   "outputs": [
    {
     "name": "stdout",
     "output_type": "stream",
     "text": [
      "Enter the number less than 250: 218\n"
     ]
    }
   ],
   "source": [
    "a=float(input(\"Enter the number less than 250:\"))"
   ]
  },
  {
   "cell_type": "code",
   "execution_count": 72,
   "id": "29008f9b-8d50-4dfb-b169-699878e436fe",
   "metadata": {},
   "outputs": [],
   "source": [
    "for i,value in enumerate(x):\n",
    "    if a<value:\n",
    "        break"
   ]
  },
  {
   "cell_type": "code",
   "execution_count": 73,
   "id": "b782ec8f-addf-4897-8c70-a29e73d13d7c",
   "metadata": {},
   "outputs": [],
   "source": [
    "pos_t=i-1"
   ]
  },
  {
   "cell_type": "code",
   "execution_count": 74,
   "id": "e15a48ef-88af-4c22-8b96-35c65e70367a",
   "metadata": {},
   "outputs": [
    {
     "name": "stdout",
     "output_type": "stream",
     "text": [
      "2\n"
     ]
    }
   ],
   "source": [
    "print(pos_t)"
   ]
  },
  {
   "cell_type": "code",
   "execution_count": 75,
   "id": "baee3074-9976-4ac7-bc5e-c6d5e371c322",
   "metadata": {},
   "outputs": [],
   "source": [
    "h=x[1]-x[0]"
   ]
  },
  {
   "cell_type": "code",
   "execution_count": 76,
   "id": "6b6ed077-577b-431f-ab1a-4278af883c04",
   "metadata": {},
   "outputs": [
    {
     "data": {
      "text/plain": [
       "50"
      ]
     },
     "execution_count": 76,
     "metadata": {},
     "output_type": "execute_result"
    }
   ],
   "source": [
    "h"
   ]
  },
  {
   "cell_type": "code",
   "execution_count": 77,
   "id": "39d60c59-9b54-4fb1-843f-8e08b065ac66",
   "metadata": {},
   "outputs": [],
   "source": [
    "p=(a-x[pos_t])/h"
   ]
  },
  {
   "cell_type": "code",
   "execution_count": 78,
   "id": "7d31e55c-e882-445c-87e0-019bb6e0d72b",
   "metadata": {},
   "outputs": [
    {
     "data": {
      "text/plain": [
       "0.36"
      ]
     },
     "execution_count": 78,
     "metadata": {},
     "output_type": "execute_result"
    }
   ],
   "source": [
    "p"
   ]
  },
  {
   "cell_type": "code",
   "execution_count": 82,
   "id": "3fccb96f-f68e-4292-bad4-a595ecaad162",
   "metadata": {},
   "outputs": [
    {
     "name": "stderr",
     "output_type": "stream",
     "text": [
      "C:\\Users\\student\\AppData\\Local\\Temp\\ipykernel_6856\\301833994.py:1: DeprecationWarning: `np.math` is a deprecated alias for the standard library `math` module (Deprecated Numpy 1.25). Replace usages of `np.math` with `math`\n",
      "  y_a=y[pos_t]+p*first_diff[pos_t]+(p*(p-1)/np.math.factorial(2))*second_diff[pos_t]+((p*(p-1)*(p-2))/np.math.factorial(3)*third_diff[pos_t])+(p*(p-1)*(p-2)*(p-3)/np.math.factorial(4))*fourth_diff[pos_t]\n"
     ]
    }
   ],
   "source": [
    "y_a=y[pos_t]+p*first_diff[pos_t]+(p*(p-1)/np.math.factorial(2))*second_diff[pos_t]+((p*(p-1)*(p-2))/np.math.factorial(3)*third_diff[pos_t])+(p*(p-1)*(p-2)*(p-3)/np.math.factorial(4))*fourth_diff[pos_t]"
   ]
  },
  {
   "cell_type": "code",
   "execution_count": 84,
   "id": "5a1691ec-567d-4d86-b9dc-45c5ab73f0bc",
   "metadata": {},
   "outputs": [
    {
     "data": {
      "text/plain": [
       "15.225144601599998"
      ]
     },
     "execution_count": 84,
     "metadata": {},
     "output_type": "execute_result"
    }
   ],
   "source": [
    "y_a"
   ]
  },
  {
   "cell_type": "code",
   "execution_count": 4,
   "id": "e9be0e71-99b7-4747-a6b8-318340c74a9e",
   "metadata": {},
   "outputs": [
    {
     "ename": "AttributeError",
     "evalue": "module 'numpy' has no attribute 'math'",
     "output_type": "error",
     "traceback": [
      "\u001b[1;31m---------------------------------------------------------------------------\u001b[0m",
      "\u001b[1;31mAttributeError\u001b[0m                            Traceback (most recent call last)",
      "Cell \u001b[1;32mIn[4], line 43\u001b[0m\n\u001b[0;32m     41\u001b[0m \u001b[38;5;66;03m# Newton Forward Interpolation\u001b[39;00m\n\u001b[0;32m     42\u001b[0m interpolated \u001b[38;5;241m=\u001b[39m y[pos_t]\n\u001b[1;32m---> 43\u001b[0m factorial \u001b[38;5;241m=\u001b[39m \u001b[43mnp\u001b[49m\u001b[38;5;241;43m.\u001b[39;49m\u001b[43mmath\u001b[49m\u001b[38;5;241m.\u001b[39mfactorial\n\u001b[0;32m     44\u001b[0m \u001b[38;5;28;01mfor\u001b[39;00m j \u001b[38;5;129;01min\u001b[39;00m \u001b[38;5;28mrange\u001b[39m(\u001b[38;5;241m1\u001b[39m, n \u001b[38;5;241m-\u001b[39m pos_t):\n\u001b[0;32m     45\u001b[0m     term \u001b[38;5;241m=\u001b[39m diff_table[j][pos_t]  \u001b[38;5;66;03m# Forward diff at level j\u001b[39;00m\n",
      "File \u001b[1;32m~\\AppData\\Roaming\\Python\\Python312\\site-packages\\numpy\\__init__.py:424\u001b[0m, in \u001b[0;36m__getattr__\u001b[1;34m(attr)\u001b[0m\n\u001b[0;32m    421\u001b[0m     \u001b[38;5;28;01mimport\u001b[39;00m \u001b[38;5;21;01mnumpy\u001b[39;00m\u001b[38;5;21;01m.\u001b[39;00m\u001b[38;5;21;01mchar\u001b[39;00m \u001b[38;5;28;01mas\u001b[39;00m \u001b[38;5;21;01mchar\u001b[39;00m\n\u001b[0;32m    422\u001b[0m     \u001b[38;5;28;01mreturn\u001b[39;00m char\u001b[38;5;241m.\u001b[39mchararray\n\u001b[1;32m--> 424\u001b[0m \u001b[38;5;28;01mraise\u001b[39;00m \u001b[38;5;167;01mAttributeError\u001b[39;00m(\u001b[38;5;124m\"\u001b[39m\u001b[38;5;124mmodule \u001b[39m\u001b[38;5;132;01m{!r}\u001b[39;00m\u001b[38;5;124m has no attribute \u001b[39m\u001b[38;5;124m\"\u001b[39m\n\u001b[0;32m    425\u001b[0m                      \u001b[38;5;124m\"\u001b[39m\u001b[38;5;132;01m{!r}\u001b[39;00m\u001b[38;5;124m\"\u001b[39m\u001b[38;5;241m.\u001b[39mformat(\u001b[38;5;18m__name__\u001b[39m, attr))\n",
      "\u001b[1;31mAttributeError\u001b[0m: module 'numpy' has no attribute 'math'"
     ]
    }
   ],
   "source": [
    "import numpy as np\n",
    "import matplotlib.pyplot as plt\n",
    "\n",
    "# --- User-defined input ---\n",
    "# Enter x and y values as comma-separated lists\n",
    "x_input = input(\"Enter x values (comma-separated): \")\n",
    "y_input = input(\"Enter corresponding y values (comma-separated): \")\n",
    "\n",
    "# Convert input strings to lists of floats\n",
    "x = list(map(float, x_input.split(',')))\n",
    "y = list(map(float, y_input.split(',')))\n",
    "\n",
    "if len(x) != len(y):\n",
    "    raise ValueError(\"x and y must be of same length\")\n",
    "\n",
    "# Ask user for the interpolation point\n",
    "a = float(input(\"Enter the value of x at which to interpolate: \"))\n",
    "\n",
    "# Sort x and y together (in case user doesn't input them in order)\n",
    "x, y = map(list, zip(*sorted(zip(x, y))))\n",
    "\n",
    "# --- Forward Difference Table Calculation ---\n",
    "n = len(x)\n",
    "diff_table = [y.copy()]\n",
    "for level in range(1, n):\n",
    "    level_diff = [diff_table[level - 1][i + 1] - diff_table[level - 1][i] for i in range(n - level)]\n",
    "    diff_table.append(level_diff)\n",
    "\n",
    "# Locate position for interpolation\n",
    "for i, val in enumerate(x):\n",
    "    if a < val:\n",
    "        break\n",
    "else:\n",
    "    i = len(x)\n",
    "pos_t = i - 1\n",
    "\n",
    "# Compute h and p\n",
    "h = x[1] - x[0]\n",
    "p = (a - x[pos_t]) / h\n",
    "\n",
    "# Newton Forward Interpolation\n",
    "interpolated = y[pos_t]\n",
    "factorial = np.math.factorial\n",
    "for j in range(1, n - pos_t):\n",
    "    term = diff_table[j][pos_t]  # Forward diff at level j\n",
    "    for k in range(j):\n",
    "        term *= (p - k)\n",
    "    interpolated += term / factorial(j)\n",
    "\n",
    "# --- Output and Visualization ---\n",
    "print(f\"Interpolated value at x = {a} is {interpolated}\")\n",
    "\n",
    "# Plotting the data points and interpolated point\n",
    "plt.plot(x, y, 'bo-', label='Given Data')\n",
    "plt.axvline(x=a, color='r', linestyle='--', label=f'Interpolated x = {a}')\n",
    "plt.scatter(a, interpolated, color='green', zorder=5, label=f'Interpolated y = {interpolated:.2f}')\n",
    "plt.xlabel('x')\n",
    "plt.ylabel('y')\n",
    "plt.title('Newton Forward Interpolation')\n",
    "plt.legend()\n",
    "plt.grid(True)\n",
    "plt.show()\n",
    "\n",
    "# --- Examples ---\n",
    "# Example 1:\n",
    "# Input x: 100,150,200,250,300,350,400\n",
    "# Input y: 10.63,13.03,15.04,16.31,18.42,19.90,21.27\n",
    "# Interpolate at x = 225\n",
    "\n",
    "# Example 2:\n",
    "# Input x: 0,1,2,3,4\n",
    "# Input y: 1,2,1,3,4\n",
    "# Interpolate at x = 2.5\n",
    "\n",
    "# Example 3:\n",
    "# Input x: 5,10,15,20\n",
    "# Input y: 12,15,20,27\n",
    "# Interpolate at x = 12\n"
   ]
  },
  {
   "cell_type": "code",
   "execution_count": 8,
   "id": "6e287cd0",
   "metadata": {},
   "outputs": [
    {
     "name": "stdout",
     "output_type": "stream",
     "text": [
      "Interpolated value at x = 12.0 is 16.76\n"
     ]
    },
    {
     "data": {
      "image/png": "[encoded data removed]",
      "text/plain": [
       "<Figure size 640x480 with 1 Axes>"
      ]
     },
     "metadata": {},
     "output_type": "display_data"
    }
   ],
   "source": [
    "import numpy as np\n",
    "import matplotlib.pyplot as plt\n",
    "import math\n",
    "\n",
    "# --- User-defined input ---\n",
    "# Enter x and y values as comma-separated lists\n",
    "x_input = input(\"Enter x values (comma-separated): \")\n",
    "y_input = input(\"Enter corresponding y values (comma-separated): \")\n",
    "\n",
    "# Convert input strings to lists of floats\n",
    "x = list(map(float, x_input.split(',')))\n",
    "y = list(map(float, y_input.split(',')))\n",
    "\n",
    "if len(x) != len(y):\n",
    "    raise ValueError(\"x and y must be of same length\")\n",
    "\n",
    "# Ask user for the interpolation point\n",
    "a = float(input(\"Enter the value of x at which to interpolate: \"))\n",
    "\n",
    "# Sort x and y together (in case user doesn't input them in order)\n",
    "x, y = map(list, zip(*sorted(zip(x, y))))\n",
    "\n",
    "# --- Forward Difference Table Calculation ---\n",
    "n = len(x)\n",
    "diff_table = [y.copy()]\n",
    "for level in range(1, n):\n",
    "    level_diff = [diff_table[level - 1][i + 1] - diff_table[level - 1][i] for i in range(n - level)]\n",
    "    diff_table.append(level_diff)\n",
    "\n",
    "# Locate position for interpolation\n",
    "for i, val in enumerate(x):\n",
    "    if a < val:\n",
    "        break\n",
    "else:\n",
    "    i = len(x)\n",
    "pos_t = i - 1\n",
    "\n",
    "# Compute h and p\n",
    "h = x[1] - x[0]\n",
    "p = (a - x[pos_t]) / h\n",
    "\n",
    "# Newton Forward Interpolation\n",
    "interpolated = y[pos_t]\n",
    "factorial = math.factorial\n",
    "for j in range(1, n - pos_t):\n",
    "    term = diff_table[j][pos_t]  # Forward diff at level j\n",
    "    for k in range(j):\n",
    "        term *= (p - k)\n",
    "    interpolated += term / factorial(j)\n",
    "\n",
    "# --- Output and Visualization ---\n",
    "print(f\"Interpolated value at x = {a} is {interpolated}\")\n",
    "\n",
    "# Plotting the data points and interpolated point\n",
    "plt.plot(x, y, 'bo-', label='Given Data')\n",
    "plt.axvline(x=a, color='r', linestyle='--', label=f'Interpolated x = {a}')\n",
    "plt.scatter(a, interpolated, color='green', zorder=5, label=f'Interpolated y = {interpolated:.2f}')\n",
    "plt.xlabel('x')\n",
    "plt.ylabel('y')\n",
    "plt.title('Newton Forward Interpolation')\n",
    "plt.legend()\n",
    "plt.grid(True)\n",
    "plt.show()\n",
    "\n",
    "# --- Examples ---\n",
    "# Example 1:\n",
    "# Input x: 100,150,200,250,300,350,400\n",
    "# Input y: 10.63,13.03,15.04,16.31,18.42,19.90,21.27\n",
    "# Interpolate at x = 225\n",
    "\n",
    "# Example 2:\n",
    "# Input x: 0,1,2,3,4\n",
    "# Input y: 1,2,1,3,4\n",
    "# Interpolate at x = 2.5\n",
    "\n",
    "# Example 3:\n",
    "# Input x: 5,10,15,20\n",
    "# Input y: 12,15,20,27\n",
    "# Interpolate at x = 12"
   ]
  },
  {
   "cell_type": "code",
   "execution_count": null,
   "id": "45c3ce4a",
   "metadata": {},
   "outputs": [],
   "source": []
  }
 ],
 "metadata": {
  "kernelspec": {
   "display_name": "Python 3",
   "language": "python",
   "name": "python3"
  },
  "language_info": {
   "codemirror_mode": {
    "name": "ipython",
    "version": 3
   },
   "file_extension": ".py",
   "mimetype": "text/x-python",
   "name": "python",
   "nbconvert_exporter": "python",
   "pygments_lexer": "ipython3",
   "version": "3.12.4"
  }
 },
 "nbformat": 4,
 "nbformat_minor": 5
}
