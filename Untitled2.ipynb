{
 "cells": [
  {
   "cell_type": "code",
   "execution_count": 6,
   "id": "d4e2f2a5-bdcc-4e87-80d7-94722dda8222",
   "metadata": {},
   "outputs": [
    {
     "name": "stdin",
     "output_type": "stream",
     "text": [
      "Enter value of a:  2\n",
      "Enter value of b:  3\n"
     ]
    },
    {
     "name": "stdout",
     "output_type": "stream",
     "text": [
      "Root is approximately: 1.1060601590224886\n"
     ]
    }
   ],
   "source": [
    "import numpy as np\n",
    "\n",
    "a = 0\n",
    "b = 0\n",
    "\n",
    "def user_input():\n",
    "    global a, b\n",
    "    a = float(input('Enter value of a: '))\n",
    "    b = float(input('Enter value of b: '))\n",
    "\n",
    "def f(x):\n",
    "    return x + np.sin(x) - 2\n",
    "\n",
    "'''def test():\n",
    "    global a, b\n",
    "    user_input()\n",
    "    f_a = f(a)\n",
    "    f_b = f(b)\n",
    "    if (f_a * f_b) < 0:\n",
    "        print(\"Assumption is valid\")\n",
    "    else:\n",
    "        print(\"Invalid interval. Try again.\")\n",
    "        test()  '''\n",
    "\n",
    "def bisection():\n",
    "    global a, b,c\n",
    "    user_input()\n",
    "    f_a = f(a)\n",
    "    f_b = f(b)\n",
    "    stored_c = []\n",
    "    while True:\n",
    "        c = (a*f(b)-b*f(a))/(f(b)-f(a))\n",
    "        stored_c.append(c)\n",
    "        a=b\n",
    "        b=c\n",
    "        f_c=f(c)\n",
    "        if abs(f_c) < 1e-8:\n",
    "            break\n",
    "    print(\"Root is approximately:\", c)\n",
    "\n",
    "bisection()\n"
   ]
  },
  {
   "cell_type": "code",
   "execution_count": 7,
   "id": "d8119510-df59-4c68-940e-89ed1f1e641c",
   "metadata": {},
   "outputs": [
    {
     "name": "stdout",
     "output_type": "stream",
     "text": [
      "1.1061\n"
     ]
    }
   ],
   "source": [
    "print(np.round(c,4))"
   ]
  },
  {
   "cell_type": "code",
   "execution_count": 8,
   "id": "5db806a5-8eac-4fd4-98a3-c77b2817478b",
   "metadata": {},
   "outputs": [],
   "source": [
    "x=np.linspace(-5,5,100)\n",
    "y=[i+np.sin(i)-2 for i in x]"
   ]
  },
  {
   "cell_type": "code",
   "execution_count": 9,
   "id": "a38d3a5d-d885-47e7-b15e-ce4e98dfd610",
   "metadata": {},
   "outputs": [
    {
     "data": {
      "image/png": "[encoded data removed]",
      "text/plain": [
       "<Figure size 640x480 with 1 Axes>"
      ]
     },
     "metadata": {},
     "output_type": "display_data"
    }
   ],
   "source": [
    "\n",
    "import matplotlib.pyplot as plt\n",
    "plt.plot(x,y,color='orange')\n",
    "plt.scatter(c,c+np.sin(c)-2)\n",
    "plt.axhline(y=0,xmin=-5,xmax=5)\n",
    "plt.show()"
   ]
  }
 ],
 "metadata": {
  "kernelspec": {
   "display_name": "Python 3 (ipykernel)",
   "language": "python",
   "name": "python3"
  },
  "language_info": {
   "codemirror_mode": {
    "name": "ipython",
    "version": 3
   },
   "file_extension": ".py",
   "mimetype": "text/x-python",
   "name": "python",
   "nbconvert_exporter": "python",
   "pygments_lexer": "ipython3",
   "version": "3.12.7"
  }
 },
 "nbformat": 4,
 "nbformat_minor": 5
}
