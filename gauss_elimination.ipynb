{
 "cells": [
  {
   "cell_type": "code",
   "execution_count": 1,
   "id": "a8356f92-7b1f-4d40-bf46-2ad23445f2f8",
   "metadata": {},
   "outputs": [],
   "source": [
    "import numpy as np"
   ]
  },
  {
   "cell_type": "code",
   "execution_count": 61,
   "id": "04e45c51-3847-4f0b-a3a3-de569a328d9d",
   "metadata": {},
   "outputs": [],
   "source": [
    "\n",
    "class GaussElimination:\n",
    "    def __init__(self):\n",
    "        self.result = None\n",
    "\n",
    "    def evaluate(self):\n",
    "        coef = np.array([\n",
    "            [0.02, 5.52, 2.07, 0.93],\n",
    "            [8.45, 8.45, 5.44, 7.06],\n",
    "            [77.89, 32.56, 40.67, 43.45],\n",
    "            [9.22, 40.81, -143.45, 17.34]\n",
    "        ])\n",
    "        right = np.array([10, 20, 15, 25])\n",
    "        matrix = np.hstack((coef, right.reshape(-1, 1))) \n",
    "        rows, cols = matrix.shape\n",
    "\n",
    "        for j in range(rows):\n",
    "            matrix[j] = matrix[j] / matrix[j][j]\n",
    "            for i in range(j+1,rows):\n",
    "                matrix[i,j:] =matrix[i,j:]- matrix[i][j] * matrix[j,j:]\n",
    "        b=matrix[:,-1]\n",
    "        a=matrix[:,0:-1]\n",
    "        self.result=np.zeros(4)\n",
    "        for i in range(rows-1,-1,-1):\n",
    "            total=sum(a[i][j] * self.result[j] for j in range(i+1,rows))\n",
    "            self.result[i]=(b[i]-total)/a[i][i]\n",
    "\n",
    "        for i in range(rows-1,1,-1):\n",
    "            total=sum(a[i][j])\n",
    "        return self.result\n",
    "                \n"
   ]
  },
  {
   "cell_type": "code",
   "execution_count": 62,
   "id": "9d2be88a-9109-40fa-b528-7d09606fac84",
   "metadata": {},
   "outputs": [],
   "source": [
    "ge=GaussElimination()"
   ]
  },
  {
   "cell_type": "code",
   "execution_count": 63,
   "id": "9f138e6f-3c83-4c0b-a309-f6542601b437",
   "metadata": {},
   "outputs": [
    {
     "data": {
      "text/plain": [
       "array([-3.9081579 ,  0.54501987,  0.51099248,  6.46440754])"
      ]
     },
     "execution_count": 63,
     "metadata": {},
     "output_type": "execute_result"
    }
   ],
   "source": [
    "ge.evaluate()"
   ]
  },
  {
   "cell_type": "code",
   "execution_count": null,
   "id": "21fb3753-f1c3-423e-85c7-224e875f91d1",
   "metadata": {},
   "outputs": [],
   "source": []
  }
 ],
 "metadata": {
  "kernelspec": {
   "display_name": "Python 3 (ipykernel)",
   "language": "python",
   "name": "python3"
  },
  "language_info": {
   "codemirror_mode": {
    "name": "ipython",
    "version": 3
   },
   "file_extension": ".py",
   "mimetype": "text/x-python",
   "name": "python",
   "nbconvert_exporter": "python",
   "pygments_lexer": "ipython3",
   "version": "3.12.7"
  }
 },
 "nbformat": 4,
 "nbformat_minor": 5
}
