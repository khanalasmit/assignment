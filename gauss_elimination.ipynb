{
 "cells": [
  {
   "cell_type": "code",
   "execution_count": 1,
   "id": "a8356f92-7b1f-4d40-bf46-2ad23445f2f8",
   "metadata": {},
   "outputs": [],
   "source": [
    "import numpy as np"
   ]
  },
  {
   "cell_type": "code",
   "execution_count": 71,
   "id": "04e45c51-3847-4f0b-a3a3-de569a328d9d",
   "metadata": {},
   "outputs": [],
   "source": [
    "\n",
    "class GaussElimination:\n",
    "    def __init__(self):\n",
    "        self.result = None\n",
    "\n",
    "    def evaluate(self):\n",
    "        coef = np.array([\n",
    "            [0.02, 5.52, 2.07, 0.93],\n",
    "            [8.45, 8.45, 5.44, 7.06],\n",
    "            [77.89, 32.56, 40.67, 43.45],\n",
    "            [9.22, 40.81, -143.45, 17.34]\n",
    "        ])\n",
    "        right = np.array([10, 20, 15, 25])\n",
    "        matrix = np.hstack((coef, right.reshape(-1, 1))) \n",
    "        rows, cols = matrix.shape\n",
    "\n",
    "        for j in range(rows):\n",
    "            matrix[j] = matrix[j] / matrix[j][j]\n",
    "            for i in range(j+1,rows):\n",
    "                matrix[i,j:] =matrix[i,j:]- matrix[i][j] * matrix[j,j:]\n",
    "        b=matrix[:,-1]\n",
    "        a=matrix[:,0:-1]\n",
    "        self.result=np.zeros(4)\n",
    "        '''for i in range(rows-1,-1,-1):\n",
    "            total=sum(a[i][j] * self.result[j] for j in range(i+1,rows))\n",
    "            self.result[i]=(b[i]-total)/a[i][i]\n",
    "'''\n",
    "        for i in range(rows-1,-1,-1):\n",
    "            total=sum(a[i,:]*self.result[i+1:])\n",
    "            self.result[i]=(b[i]-total)/a[i][i]\n",
    "        return self.result\n",
    "                \n"
   ]
  },
  {
   "cell_type": "code",
   "execution_count": 72,
   "id": "9d2be88a-9109-40fa-b528-7d09606fac84",
   "metadata": {},
   "outputs": [],
   "source": [
    "ge=GaussElimination()"
   ]
  },
  {
   "cell_type": "code",
   "execution_count": 73,
   "id": "9f138e6f-3c83-4c0b-a309-f6542601b437",
   "metadata": {},
   "outputs": [
    {
     "ename": "ValueError",
     "evalue": "operands could not be broadcast together with shapes (3,) (2,) ",
     "output_type": "error",
     "traceback": [
      "\u001b[1;31m---------------------------------------------------------------------------\u001b[0m",
      "\u001b[1;31mValueError\u001b[0m                                Traceback (most recent call last)",
      "Cell \u001b[1;32mIn[73], line 1\u001b[0m\n\u001b[1;32m----> 1\u001b[0m ge\u001b[38;5;241m.\u001b[39mevaluate()\n",
      "Cell \u001b[1;32mIn[71], line 28\u001b[0m, in \u001b[0;36mGaussElimination.evaluate\u001b[1;34m(self)\u001b[0m\n\u001b[0;32m     23\u001b[0m \u001b[38;5;250m        \u001b[39m\u001b[38;5;124;03m'''for i in range(rows-1,-1,-1):\u001b[39;00m\n\u001b[0;32m     24\u001b[0m \u001b[38;5;124;03m            total=sum(a[i][j] * self.result[j] for j in range(i+1,rows))\u001b[39;00m\n\u001b[0;32m     25\u001b[0m \u001b[38;5;124;03m            self.result[i]=(b[i]-total)/a[i][i]\u001b[39;00m\n\u001b[0;32m     26\u001b[0m \u001b[38;5;124;03m'''\u001b[39;00m\n\u001b[0;32m     27\u001b[0m         \u001b[38;5;28;01mfor\u001b[39;00m i \u001b[38;5;129;01min\u001b[39;00m \u001b[38;5;28mrange\u001b[39m(rows\u001b[38;5;241m-\u001b[39m\u001b[38;5;241m1\u001b[39m,\u001b[38;5;241m-\u001b[39m\u001b[38;5;241m1\u001b[39m,\u001b[38;5;241m-\u001b[39m\u001b[38;5;241m1\u001b[39m):\n\u001b[1;32m---> 28\u001b[0m             total\u001b[38;5;241m=\u001b[39m\u001b[38;5;28msum\u001b[39m(a[i][i:]\u001b[38;5;241m*\u001b[39m\u001b[38;5;28mself\u001b[39m\u001b[38;5;241m.\u001b[39mresult[i\u001b[38;5;241m+\u001b[39m\u001b[38;5;241m1\u001b[39m:])\n\u001b[0;32m     29\u001b[0m             \u001b[38;5;28mself\u001b[39m\u001b[38;5;241m.\u001b[39mresult[i]\u001b[38;5;241m=\u001b[39m(b[i]\u001b[38;5;241m-\u001b[39mtotal)\u001b[38;5;241m/\u001b[39ma[i][i]\n\u001b[0;32m     30\u001b[0m         \u001b[38;5;28;01mreturn\u001b[39;00m \u001b[38;5;28mself\u001b[39m\u001b[38;5;241m.\u001b[39mresult\n",
      "\u001b[1;31mValueError\u001b[0m: operands could not be broadcast together with shapes (3,) (2,) "
     ]
    }
   ],
   "source": [
    "ge.evaluate()"
   ]
  },
  {
   "cell_type": "code",
   "execution_count": null,
   "id": "21fb3753-f1c3-423e-85c7-224e875f91d1",
   "metadata": {},
   "outputs": [],
   "source": []
  }
 ],
 "metadata": {
  "kernelspec": {
   "display_name": "Python 3 (ipykernel)",
   "language": "python",
   "name": "python3"
  },
  "language_info": {
   "codemirror_mode": {
    "name": "ipython",
    "version": 3
   },
   "file_extension": ".py",
   "mimetype": "text/x-python",
   "name": "python",
   "nbconvert_exporter": "python",
   "pygments_lexer": "ipython3",
   "version": "3.12.7"
  }
 },
 "nbformat": 4,
 "nbformat_minor": 5
}
