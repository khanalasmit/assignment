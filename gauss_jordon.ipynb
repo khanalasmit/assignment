{
 "cells": [
  {
   "cell_type": "code",
   "execution_count": 1,
   "id": "3437cff1-36a8-4b61-a599-78008da3693a",
   "metadata": {},
   "outputs": [],
   "source": [
    "import numpy as np"
   ]
  },
  {
   "cell_type": "code",
   "execution_count": 22,
   "id": "90b93faa-9ac3-4e7a-b733-9504dfa3652f",
   "metadata": {},
   "outputs": [],
   "source": [
    "\n",
    "class GaussJordan:\n",
    "    def __init__(self):\n",
    "        self.result = None\n",
    "\n",
    "    def evaluate(self):\n",
    "        coef = np.array([\n",
    "            [0.02, 5.52, 2.07, 0.93],\n",
    "            [8.45, 8.45, 5.44, 7.06],\n",
    "            [77.89, 32.56, 40.67, 43.45],\n",
    "            [9.22, 40.81, -143.45, 17.34]\n",
    "        ])\n",
    "        right = np.array([10, 20, 15, 25])\n",
    "        matrix = np.hstack((coef, right.reshape(-1, 1))) \n",
    "        print(right.reshape(-1,1))\n",
    "        rows, cols = matrix.shape\n",
    "\n",
    "        for j in range(rows):\n",
    "            matrix[j] = matrix[j] / matrix[j][j]\n",
    "\n",
    "            for i in range(rows):\n",
    "                if i != j:\n",
    "                    matrix[i] = matrix[i] - matrix[i][j] * matrix[j]\n",
    "\n",
    "        self.result = matrix[:, -1] \n",
    "        return self.result\n"
   ]
  },
  {
   "cell_type": "code",
   "execution_count": 23,
   "id": "a39b14e0-6e93-428b-a25e-72c107deda09",
   "metadata": {},
   "outputs": [
    {
     "name": "stdout",
     "output_type": "stream",
     "text": [
      "[[10]\n",
      " [20]\n",
      " [15]\n",
      " [25]]\n"
     ]
    },
    {
     "data": {
      "text/plain": [
       "array([-3.9081579 ,  0.54501987,  0.51099248,  6.46440754])"
      ]
     },
     "execution_count": 23,
     "metadata": {},
     "output_type": "execute_result"
    }
   ],
   "source": [
    "gj=GaussJordan()\n",
    "gj.evaluate()"
   ]
  },
  {
   "cell_type": "code",
   "execution_count": null,
   "id": "ed937b5b-2e76-486f-ae64-697b04c5770a",
   "metadata": {},
   "outputs": [],
   "source": []
  }
 ],
 "metadata": {
  "kernelspec": {
   "display_name": "Python 3 (ipykernel)",
   "language": "python",
   "name": "python3"
  },
  "language_info": {
   "codemirror_mode": {
    "name": "ipython",
    "version": 3
   },
   "file_extension": ".py",
   "mimetype": "text/x-python",
   "name": "python",
   "nbconvert_exporter": "python",
   "pygments_lexer": "ipython3",
   "version": "3.12.7"
  }
 },
 "nbformat": 4,
 "nbformat_minor": 5
}
