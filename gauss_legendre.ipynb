{
 "cells": [
  {
   "cell_type": "code",
   "execution_count": 1,
   "id": "169f60bd",
   "metadata": {},
   "outputs": [],
   "source": [
    "import numpy as np\n",
    "def f(x):\n",
    "    return x**3+5\n",
    "def GaussLegendre3P( a, b):\n",
    "    # define weights and absicssae\n",
    "    w = np.array([5/9, 8/9, 5/9])\n",
    "    z = np.array([-np.sqrt(3/5), 0, np.sqrt(3/5)])\n",
    "    # Change limits from [a, b] to [-1, 1]\n",
    "    P = (b - a) / 2\n",
    "    Q = (a + b) / 2\n",
    "    x = P*z + Q\n",
    "    result = P * np.dot(f(x), w)\n",
    "    return result"
   ]
  },
  {
   "cell_type": "code",
   "execution_count": 2,
   "id": "573f24c1",
   "metadata": {},
   "outputs": [
    {
     "name": "stdout",
     "output_type": "stream",
     "text": [
      "14.0\n"
     ]
    }
   ],
   "source": [
    "print(GaussLegendre3P(0, 2))"
   ]
  },
  {
   "cell_type": "code",
   "execution_count": null,
   "id": "d68ebdfa",
   "metadata": {},
   "outputs": [],
   "source": []
  }
 ],
 "metadata": {
  "kernelspec": {
   "display_name": "Python 3",
   "language": "python",
   "name": "python3"
  },
  "language_info": {
   "codemirror_mode": {
    "name": "ipython",
    "version": 3
   },
   "file_extension": ".py",
   "mimetype": "text/x-python",
   "name": "python",
   "nbconvert_exporter": "python",
   "pygments_lexer": "ipython3",
   "version": "3.12.4"
  }
 },
 "nbformat": 4,
 "nbformat_minor": 5
}
