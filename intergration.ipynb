{
 "cells": [
  {
   "cell_type": "code",
   "execution_count": 10,
   "id": "d9912b44",
   "metadata": {},
   "outputs": [],
   "source": [
    "import numpy as np\n",
    "import matplotlib.pyplot as plt\n",
    "\n",
    "class Integration:\n",
    "    def __init__(self, a, b):\n",
    "        self.a = a\n",
    "        self.b = b\n",
    "\n",
    "    def f(self, x):\n",
    "        return 1 / (1 + x**2)\n",
    "\n",
    "    def Trapezoid(self, n):\n",
    "        a = self.a\n",
    "        b = self.b\n",
    "        h = (b - a) / n\n",
    "        result = self.f(a) + self.f(b)\n",
    "        for i in range(1, n):\n",
    "            result += 2 * self.f(a + i * h)\n",
    "        result *= h / 2\n",
    "        print(f\"The result of Trapezoid Rule is: {result}\")\n",
    "        return result\n",
    "\n",
    "    def simpsons_13(self, n):\n",
    "        a = self.a\n",
    "        b = self.b\n",
    "        h = (b - a) / n\n",
    "        result = self.f(a) + self.f(b)\n",
    "        for i in range(1, n):\n",
    "            x = a + i * h\n",
    "            if i % 2 == 0:\n",
    "                result += 2 * self.f(x)\n",
    "            else:\n",
    "                result += 4 * self.f(x)\n",
    "        result *= h / 3\n",
    "        print(f\"The result of Simpson's 1/3 Rule is: {result}\")\n",
    "        return result\n",
    "\n",
    "    def simpsons_38(self, n):\n",
    "        a = self.a\n",
    "        b = self.b\n",
    "        h = (b - a) / n\n",
    "        result = self.f(a) + self.f(b)\n",
    "        for i in range(1, n):\n",
    "            x = a + i * h\n",
    "            if i % 3 == 0:\n",
    "                result += 2 * self.f(x)\n",
    "            else:\n",
    "                result += 3 * self.f(x)\n",
    "        result *= (3 * h / 8)\n",
    "        print(f\"The result of Simpson's 3/8 Rule is: {result}\")\n",
    "        return result\n",
    "\n",
    "    def booles(self, n):\n",
    "        if n % 4 != 0:\n",
    "            raise ValueError(\"n must be a multiple of 4 for Boole's Rule.\")\n",
    "        a = self.a\n",
    "        b = self.b\n",
    "        h = (b - a) / n\n",
    "        result = 0\n",
    "        for i in range(0, n, 4):\n",
    "            x0 = a + i * h\n",
    "            x1 = x0 + h\n",
    "            x2 = x0 + 2 * h\n",
    "            x3 = x0 + 3 * h\n",
    "            x4 = x0 + 4 * h\n",
    "            result += (2 * h / 45) * (\n",
    "                7 * self.f(x0) +\n",
    "                32 * self.f(x1) +\n",
    "                12 * self.f(x2) +\n",
    "                32 * self.f(x3) +\n",
    "                7 * self.f(x4)\n",
    "            )\n",
    "        print(f\"The result of Composite Boole's Rule is: {result}\")\n",
    "        return result\n",
    "\n",
    "    def weddles(self, n):\n",
    "        if n % 6 != 0:\n",
    "            raise ValueError(\"n must be a multiple of 6 for Weddle's Rule.\")\n",
    "        a = self.a\n",
    "        b = self.b\n",
    "        h = (b - a) / n\n",
    "        result = 0\n",
    "        for i in range(0, n, 6):\n",
    "            x0 = a + i * h\n",
    "            x1 = x0 + h\n",
    "            x2 = x0 + 2 * h\n",
    "            x3 = x0 + 3 * h\n",
    "            x4 = x0 + 4 * h\n",
    "            x5 = x0 + 5 * h\n",
    "            x6 = x0 + 6 * h\n",
    "            result += (3 * h / 10) * (\n",
    "                self.f(x0) +\n",
    "                5 * self.f(x1) +\n",
    "                self.f(x2) +\n",
    "                6 * self.f(x3) +\n",
    "                self.f(x4) +\n",
    "                5 * self.f(x5) +\n",
    "                self.f(x6)\n",
    "            )\n",
    "        print(f\"The result of Weddle's Rule is: {result}\")\n",
    "        return result\n"
   ]
  },
  {
   "cell_type": "code",
   "execution_count": 11,
   "id": "76b78a95",
   "metadata": {},
   "outputs": [
    {
     "name": "stdout",
     "output_type": "stream",
     "text": [
      "The result of Trapezoid Rule is: 0.6485353072038802\n"
     ]
    },
    {
     "data": {
      "text/plain": [
       "0.6485353072038802"
      ]
     },
     "execution_count": 11,
     "metadata": {},
     "output_type": "execute_result"
    }
   ],
   "source": [
    "int=Integration(1,6)\n",
    "int.Trapezoid(6)"
   ]
  },
  {
   "cell_type": "code",
   "execution_count": 12,
   "id": "b964a3b8",
   "metadata": {},
   "outputs": [
    {
     "name": "stdout",
     "output_type": "stream",
     "text": [
      "The result of Simpson's 1/3 Rule is: 0.6217343082167297\n"
     ]
    },
    {
     "data": {
      "text/plain": [
       "0.6217343082167297"
      ]
     },
     "execution_count": 12,
     "metadata": {},
     "output_type": "execute_result"
    }
   ],
   "source": [
    "int.simpsons_13(6)"
   ]
  },
  {
   "cell_type": "code",
   "execution_count": 13,
   "id": "af000bc8",
   "metadata": {},
   "outputs": [
    {
     "name": "stdout",
     "output_type": "stream",
     "text": [
      "The result of Simpson's 3/8 Rule is: 0.6204023349744522\n"
     ]
    },
    {
     "data": {
      "text/plain": [
       "0.6204023349744522"
      ]
     },
     "execution_count": 13,
     "metadata": {},
     "output_type": "execute_result"
    }
   ],
   "source": [
    "int.simpsons_38(12)"
   ]
  },
  {
   "cell_type": "code",
   "execution_count": 14,
   "id": "4cd9269a",
   "metadata": {},
   "outputs": [
    {
     "name": "stdout",
     "output_type": "stream",
     "text": [
      "The result of Composite Boole's Rule is: 0.6202473688356476\n"
     ]
    },
    {
     "data": {
      "text/plain": [
       "0.6202473688356476"
      ]
     },
     "execution_count": 14,
     "metadata": {},
     "output_type": "execute_result"
    }
   ],
   "source": [
    "int.booles(24)"
   ]
  },
  {
   "cell_type": "code",
   "execution_count": 15,
   "id": "0644c860",
   "metadata": {},
   "outputs": [
    {
     "ename": "ValueError",
     "evalue": "n must be a multiple of 6 for Weddle's Rule.",
     "output_type": "error",
     "traceback": [
      "\u001b[1;31m---------------------------------------------------------------------------\u001b[0m",
      "\u001b[1;31mValueError\u001b[0m                                Traceback (most recent call last)",
      "Cell \u001b[1;32mIn[15], line 1\u001b[0m\n\u001b[1;32m----> 1\u001b[0m \u001b[38;5;28;43mint\u001b[39;49m\u001b[38;5;241;43m.\u001b[39;49m\u001b[43mweddles\u001b[49m\u001b[43m(\u001b[49m\u001b[38;5;241;43m34\u001b[39;49m\u001b[43m)\u001b[49m\n",
      "Cell \u001b[1;32mIn[10], line 78\u001b[0m, in \u001b[0;36mIntegration.weddles\u001b[1;34m(self, n)\u001b[0m\n\u001b[0;32m     76\u001b[0m \u001b[38;5;28;01mdef\u001b[39;00m \u001b[38;5;21mweddles\u001b[39m(\u001b[38;5;28mself\u001b[39m, n):\n\u001b[0;32m     77\u001b[0m     \u001b[38;5;28;01mif\u001b[39;00m n \u001b[38;5;241m%\u001b[39m \u001b[38;5;241m6\u001b[39m \u001b[38;5;241m!=\u001b[39m \u001b[38;5;241m0\u001b[39m:\n\u001b[1;32m---> 78\u001b[0m         \u001b[38;5;28;01mraise\u001b[39;00m \u001b[38;5;167;01mValueError\u001b[39;00m(\u001b[38;5;124m\"\u001b[39m\u001b[38;5;124mn must be a multiple of 6 for Weddle\u001b[39m\u001b[38;5;124m'\u001b[39m\u001b[38;5;124ms Rule.\u001b[39m\u001b[38;5;124m\"\u001b[39m)\n\u001b[0;32m     79\u001b[0m     a \u001b[38;5;241m=\u001b[39m \u001b[38;5;28mself\u001b[39m\u001b[38;5;241m.\u001b[39ma\n\u001b[0;32m     80\u001b[0m     b \u001b[38;5;241m=\u001b[39m \u001b[38;5;28mself\u001b[39m\u001b[38;5;241m.\u001b[39mb\n",
      "\u001b[1;31mValueError\u001b[0m: n must be a multiple of 6 for Weddle's Rule."
     ]
    }
   ],
   "source": [
    "int.weddles(34)"
   ]
  },
  {
   "cell_type": "code",
   "execution_count": 16,
   "id": "5f14a95e",
   "metadata": {},
   "outputs": [
    {
     "name": "stdout",
     "output_type": "stream",
     "text": [
      "The result of Weddle's Rule is: 0.6202493608862132\n"
     ]
    },
    {
     "data": {
      "text/plain": [
       "0.6202493608862132"
      ]
     },
     "execution_count": 16,
     "metadata": {},
     "output_type": "execute_result"
    }
   ],
   "source": [
    "int.weddles(36)"
   ]
  },
  {
   "cell_type": "code",
   "execution_count": null,
   "id": "a709f4ad",
   "metadata": {},
   "outputs": [],
   "source": []
  },
  {
   "cell_type": "code",
   "execution_count": null,
   "id": "707a6f87",
   "metadata": {},
   "outputs": [],
   "source": []
  }
 ],
 "metadata": {
  "kernelspec": {
   "display_name": "Python 3",
   "language": "python",
   "name": "python3"
  },
  "language_info": {
   "codemirror_mode": {
    "name": "ipython",
    "version": 3
   },
   "file_extension": ".py",
   "mimetype": "text/x-python",
   "name": "python",
   "nbconvert_exporter": "python",
   "pygments_lexer": "ipython3",
   "version": "3.12.4"
  }
 },
 "nbformat": 4,
 "nbformat_minor": 5
}
