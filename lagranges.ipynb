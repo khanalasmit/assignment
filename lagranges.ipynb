{
 "cells": [
  {
   "cell_type": "code",
   "execution_count": 1,
   "id": "a944bb25",
   "metadata": {},
   "outputs": [],
   "source": [
    "import numpy as np\n",
    "import matplotlib.pyplot as plt"
   ]
  },
  {
   "cell_type": "code",
   "execution_count": 2,
   "id": "ce8d5bd7",
   "metadata": {},
   "outputs": [],
   "source": [
    "class Lagranges:\n",
    "    def __init__(self,x):\n",
    "        self.xvals=[5,7,11,13,17]\n",
    "        self.yvals=[110,392,1452,2868,5202]\n",
    "        self.x=x\n",
    "        self.n=len(self.xvals)\n",
    "        self.result=1\n",
    "    def evaluate(self):\n",
    "        print(self.n)\n",
    "        for  i in range(self.n):\n",
    "            term=self.yvals[i]\n",
    "            for j in range(self.n):\n",
    "                if(i!=j):\n",
    "                    term *=((self.x-self.xvals[j])/(self.xvals[i]-self.xvals[j]))\n",
    "            self.result +=term\n",
    "        print(f\"For {self.x} interpolated values is {self.result:.4f}\")\n",
    "    def plot(self):\n",
    "        plt.plot(self.xvals,self.yvals)\n",
    "        plt.scatter(self.x,self.evaluate(),color='green',marker='o')\n",
    "        plt.title(\"Lagranges interpolation of the given x values\")\n",
    "        plt.xlabel('X')\n",
    "        plt.ylabel('Y')\n",
    "        plt.show()"
   ]
  },
  {
   "cell_type": "code",
   "execution_count": null,
   "id": "351108b3",
   "metadata": {},
   "outputs": [],
   "source": []
  }
 ],
 "metadata": {
  "kernelspec": {
   "display_name": "Python 3",
   "language": "python",
   "name": "python3"
  },
  "language_info": {
   "codemirror_mode": {
    "name": "ipython",
    "version": 3
   },
   "file_extension": ".py",
   "mimetype": "text/x-python",
   "name": "python",
   "nbconvert_exporter": "python",
   "pygments_lexer": "ipython3",
   "version": "3.12.4"
  }
 },
 "nbformat": 4,
 "nbformat_minor": 5
}
