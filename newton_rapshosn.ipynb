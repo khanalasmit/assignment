{
 "cells": [
  {
   "cell_type": "code",
   "execution_count": 1,
   "id": "85f4c781",
   "metadata": {},
   "outputs": [],
   "source": [
    "import numpy as np\n",
    "import matplotlib.pyplot as plt\n"
   ]
  },
  {
   "cell_type": "code",
   "execution_count": 2,
   "id": "d5338843",
   "metadata": {},
   "outputs": [],
   "source": [
    "class NewtonRaphson:\n",
    "    def __init__(self, initial_guess, tolerance):\n",
    "        self.x0 = initial_guess\n",
    "        self.tol = tolerance\n",
    "        self.root = None\n",
    "\n",
    "    def f(self, a):\n",
    "        return a**2 - 4\n",
    "\n",
    "    def f_prime(self, a):\n",
    "        return 2 * a\n",
    "\n",
    "    def evaluate(self):\n",
    "        f_x = self.f(self.x0)\n",
    "        f_x_prime = self.f_prime(self.x0)\n",
    "        \n",
    "        while abs(f_x) > self.tol:\n",
    "            self.x0 = self.x0 - (f_x / f_x_prime)\n",
    "            f_x = self.f(self.x0)\n",
    "            f_x_prime = self.f_prime(self.x0)\n",
    "        \n",
    "        self.root = self.x0\n",
    "        print(f\"Root: {self.root:.4f}\")\n",
    "\n",
    "    def plot(self):\n",
    "        x = np.linspace(-5, 5, 100)\n",
    "        y = [self.f(i) for i in x]\n",
    "        \n",
    "        plt.plot(x, y, label='f(x) = x² - 4')\n",
    "        plt.scatter(self.root, self.f(self.root), color='red', zorder=5, label='Root')\n",
    "        plt.axvline(self.root, linestyle='--', alpha=0.6, color='grey')\n",
    "        plt.axhline(0, color='black', linewidth=0.5)\n",
    "        \n",
    "        plt.title('Plot of the function')\n",
    "        plt.xlabel('x')\n",
    "        plt.ylabel('f(x)')\n",
    "        plt.legend()\n",
    "        plt.grid(True)\n",
    "        plt.show()"
   ]
  },
  {
   "cell_type": "code",
   "execution_count": null,
   "id": "379013e9",
   "metadata": {},
   "outputs": [],
   "source": []
  }
 ],
 "metadata": {
  "kernelspec": {
   "display_name": "Python 3",
   "language": "python",
   "name": "python3"
  },
  "language_info": {
   "codemirror_mode": {
    "name": "ipython",
    "version": 3
   },
   "file_extension": ".py",
   "mimetype": "text/x-python",
   "name": "python",
   "nbconvert_exporter": "python",
   "pygments_lexer": "ipython3",
   "version": "3.12.4"
  }
 },
 "nbformat": 4,
 "nbformat_minor": 5
}
