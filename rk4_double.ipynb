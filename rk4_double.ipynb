{
 "cells": [
  {
   "cell_type": "code",
   "execution_count": 1,
   "id": "b2eec7df-c725-4377-a17d-c224cdd87f2f",
   "metadata": {},
   "outputs": [],
   "source": [
    "import pandas as pd\n",
    "import numpy as np\n",
    "import matplotlib.pyplot as plt"
   ]
  },
  {
   "cell_type": "code",
   "execution_count": 14,
   "id": "c664c43d-a3ea-4351-a76e-3956648aa434",
   "metadata": {},
   "outputs": [],
   "source": [
    "class RK4:\n",
    "    def __init__(self,initial1,initial2,h):\n",
    "        #self.iterations=iterations\n",
    "        self.x_value=initial1[0]\n",
    "        self.y_value=initial1[1]\n",
    "        self.z_value=initial2[1]\n",
    "        self.h=h\n",
    "        self.k=None\n",
    "        self.l=None\n",
    "        self.x_values=[]\n",
    "        self.y_values=[]\n",
    "        self.z_values=[]\n",
    "    def f1(self,a,b,c):\n",
    "        return c\n",
    "    def f2(self,a,b,c):\n",
    "        return np.exp(a)+np.sin(a)-5*c-6*b\n",
    "    def evaluate(self):\n",
    "        x0=self.x_value\n",
    "        y0=self.y_value\n",
    "        z0=self.z_value\n",
    "        k1=z0\n",
    "        l1=self.h*self.f2(x0,y0,z0)\n",
    "        \n",
    "        l2=self.h*self.f2(x0+self.h,y0+k1,z0+l1)\n",
    "        k2=self.h*self.f1(x0+h/2,y0+k1/2,z0+l1/2)\n",
    "        \n",
    "        l3=self.h*self.f2(x0+h/2,y0+k2/2,z0+l2/2)\n",
    "        k3=self.h*self.f1(x0+h/2,y0+k2/2,z0+l2/2)\n",
    "\n",
    "        l4=self.h*self.f2(x0+h,y0+k3,z0+l3)\n",
    "        k4=self.h*self.f1(x0+h,y0+k3,z0+l3)\n",
    "        self.k=(k1+2*k2+2*k3+k4)/6\n",
    "        self.l=(l1+2*l2+2*l3+l4)/6\n",
    "        return self.y+self.k,self.z+self.l\n",
    "    def calculate(self):\n",
    "        n=10\n",
    "        self.x_values.append(self.x_value)\n",
    "        self.y_values.append(self.y_value)\n",
    "        self.z_values.append(self.z_value)\n",
    "        for i in range(n):\n",
    "            self.x_value=self.x_value+self.h\n",
    "            self.y_value,self.z_value=self.evaluate()\n",
    "            self.x_values.append(self.x_value)\n",
    "            self.y_values.append(self.y_value)\n",
    "            self.z_values.appedn(self.z_value)\n",
    "        print(self.x_values,self.y_values)\n",
    "        plt.plot(self.x_values,self.y_values,color='green',marker=True)\n",
    "        plt.title('RK4 method')\n",
    "        plt.show()\n",
    "        "
   ]
  },
  {
   "cell_type": "code",
   "execution_count": 15,
   "id": "252cfc02-e173-4c18-aaad-bdd370488791",
   "metadata": {},
   "outputs": [],
   "source": [
    "rk=RK4([0,1],[0,1],0.1)"
   ]
  },
  {
   "cell_type": "code",
   "execution_count": 16,
   "id": "4764047e-3d3d-4ded-aad4-5a4ad9f46868",
   "metadata": {},
   "outputs": [
    {
     "ename": "NameError",
     "evalue": "name 'h' is not defined",
     "output_type": "error",
     "traceback": [
      "\u001b[1;31m---------------------------------------------------------------------------\u001b[0m",
      "\u001b[1;31mNameError\u001b[0m                                 Traceback (most recent call last)",
      "Cell \u001b[1;32mIn[16], line 1\u001b[0m\n\u001b[1;32m----> 1\u001b[0m rk\u001b[38;5;241m.\u001b[39mcalculate()\n",
      "Cell \u001b[1;32mIn[14], line 42\u001b[0m, in \u001b[0;36mRK4.calculate\u001b[1;34m(self)\u001b[0m\n\u001b[0;32m     40\u001b[0m \u001b[38;5;28;01mfor\u001b[39;00m i \u001b[38;5;129;01min\u001b[39;00m \u001b[38;5;28mrange\u001b[39m(n):\n\u001b[0;32m     41\u001b[0m     \u001b[38;5;28mself\u001b[39m\u001b[38;5;241m.\u001b[39mx_value\u001b[38;5;241m=\u001b[39m\u001b[38;5;28mself\u001b[39m\u001b[38;5;241m.\u001b[39mx_value\u001b[38;5;241m+\u001b[39m\u001b[38;5;28mself\u001b[39m\u001b[38;5;241m.\u001b[39mh\n\u001b[1;32m---> 42\u001b[0m     \u001b[38;5;28mself\u001b[39m\u001b[38;5;241m.\u001b[39my_value,\u001b[38;5;28mself\u001b[39m\u001b[38;5;241m.\u001b[39mz_value\u001b[38;5;241m=\u001b[39m\u001b[38;5;28mself\u001b[39m\u001b[38;5;241m.\u001b[39mevaluate()\n\u001b[0;32m     43\u001b[0m     \u001b[38;5;28mself\u001b[39m\u001b[38;5;241m.\u001b[39mx_values\u001b[38;5;241m.\u001b[39mappend(\u001b[38;5;28mself\u001b[39m\u001b[38;5;241m.\u001b[39mx_value)\n\u001b[0;32m     44\u001b[0m     \u001b[38;5;28mself\u001b[39m\u001b[38;5;241m.\u001b[39my_values\u001b[38;5;241m.\u001b[39mappend(\u001b[38;5;28mself\u001b[39m\u001b[38;5;241m.\u001b[39my_value)\n",
      "Cell \u001b[1;32mIn[14], line 24\u001b[0m, in \u001b[0;36mRK4.evaluate\u001b[1;34m(self)\u001b[0m\n\u001b[0;32m     21\u001b[0m k1\u001b[38;5;241m=\u001b[39mz0\n\u001b[0;32m     22\u001b[0m l1\u001b[38;5;241m=\u001b[39m\u001b[38;5;28mself\u001b[39m\u001b[38;5;241m.\u001b[39mh\u001b[38;5;241m*\u001b[39m\u001b[38;5;28mself\u001b[39m\u001b[38;5;241m.\u001b[39mf2(x0,y0,z0)\n\u001b[1;32m---> 24\u001b[0m l2\u001b[38;5;241m=\u001b[39m\u001b[38;5;28mself\u001b[39m\u001b[38;5;241m.\u001b[39mh\u001b[38;5;241m*\u001b[39m\u001b[38;5;28mself\u001b[39m\u001b[38;5;241m.\u001b[39mf2(x0\u001b[38;5;241m+\u001b[39mh,y0\u001b[38;5;241m+\u001b[39mk1,z0\u001b[38;5;241m+\u001b[39ml1)\n\u001b[0;32m     25\u001b[0m k2\u001b[38;5;241m=\u001b[39m\u001b[38;5;28mself\u001b[39m\u001b[38;5;241m.\u001b[39mh\u001b[38;5;241m*\u001b[39m\u001b[38;5;28mself\u001b[39m\u001b[38;5;241m.\u001b[39mf1(x0\u001b[38;5;241m+\u001b[39mh\u001b[38;5;241m/\u001b[39m\u001b[38;5;241m2\u001b[39m,y0\u001b[38;5;241m+\u001b[39mk1\u001b[38;5;241m/\u001b[39m\u001b[38;5;241m2\u001b[39m,z0\u001b[38;5;241m+\u001b[39ml1\u001b[38;5;241m/\u001b[39m\u001b[38;5;241m2\u001b[39m)\n\u001b[0;32m     27\u001b[0m l3\u001b[38;5;241m=\u001b[39m\u001b[38;5;28mself\u001b[39m\u001b[38;5;241m.\u001b[39mh\u001b[38;5;241m*\u001b[39m\u001b[38;5;28mself\u001b[39m\u001b[38;5;241m.\u001b[39mf2(x0\u001b[38;5;241m+\u001b[39mh\u001b[38;5;241m/\u001b[39m\u001b[38;5;241m2\u001b[39m,y0\u001b[38;5;241m+\u001b[39mk2\u001b[38;5;241m/\u001b[39m\u001b[38;5;241m2\u001b[39m,z0\u001b[38;5;241m+\u001b[39ml2\u001b[38;5;241m/\u001b[39m\u001b[38;5;241m2\u001b[39m)\n",
      "\u001b[1;31mNameError\u001b[0m: name 'h' is not defined"
     ]
    }
   ],
   "source": [
    "rk.calculate()"
   ]
  },
  {
   "cell_type": "code",
   "execution_count": null,
   "id": "856e7eb9-9ea5-46df-8c24-ad2c180d9228",
   "metadata": {},
   "outputs": [],
   "source": []
  }
 ],
 "metadata": {
  "kernelspec": {
   "display_name": "Python 3 (ipykernel)",
   "language": "python",
   "name": "python3"
  },
  "language_info": {
   "codemirror_mode": {
    "name": "ipython",
    "version": 3
   },
   "file_extension": ".py",
   "mimetype": "text/x-python",
   "name": "python",
   "nbconvert_exporter": "python",
   "pygments_lexer": "ipython3",
   "version": "3.12.7"
  }
 },
 "nbformat": 4,
 "nbformat_minor": 5
}
