{
 "cells": [
  {
   "cell_type": "code",
   "execution_count": 1,
   "id": "669ae88f",
   "metadata": {},
   "outputs": [],
   "source": [
    "import numpy as np\n",
    "import matplotlib.pyplot as plt"
   ]
  },
  {
   "cell_type": "code",
   "execution_count": 2,
   "id": "db5b80d5",
   "metadata": {},
   "outputs": [],
   "source": [
    "class RK4:\n",
    "    def __init__(self,x,y,h):\n",
    "        #self.iterations=iterations\n",
    "        self.x=x\n",
    "        self.y=y\n",
    "        self.h=h\n",
    "        self.k=None\n",
    "        self.x_values=[]\n",
    "        self.y_values=[]\n",
    "    def f(self,a,b):\n",
    "        return a+b\n",
    "    def evaluate(self):\n",
    "        k1=self.h*self.f(self.x,self.y)\n",
    "        k2=self.h*self.f(self.x+h/2,self.y+k1/2)\n",
    "        k3=self.h*self.f(self.x+h/2,self.y+k2/2)\n",
    "        k4=self.h*self.f(self.x+h,self.y+k3)\n",
    "        self.k=(k1+2*k2+2*k3+k4)/6\n",
    "        return self.y+self.k\n",
    "    def calculate(self):\n",
    "        n=10\n",
    "        self.x_values.append(self.x)\n",
    "        self.y_values.append(self.y)\n",
    "        for i in range(n):\n",
    "            self.x=self.x+self.h\n",
    "            self.y=self.evaluate()\n",
    "            self.x_values.append(self.x)\n",
    "            self.y_values.append(self.y)\n",
    "        print(self.x_values,self.y_values)\n",
    "        plt.plot(self.x_values,self.y_values,color='green',marker=True)\n",
    "        plt.title('RK4 method')\n",
    "        plt.show()"
   ]
  },
  {
   "cell_type": "code",
   "execution_count": null,
   "id": "10255175",
   "metadata": {},
   "outputs": [],
   "source": []
  }
 ],
 "metadata": {
  "kernelspec": {
   "display_name": "Python 3",
   "language": "python",
   "name": "python3"
  },
  "language_info": {
   "codemirror_mode": {
    "name": "ipython",
    "version": 3
   },
   "file_extension": ".py",
   "mimetype": "text/x-python",
   "name": "python",
   "nbconvert_exporter": "python",
   "pygments_lexer": "ipython3",
   "version": "3.12.4"
  }
 },
 "nbformat": 4,
 "nbformat_minor": 5
}
