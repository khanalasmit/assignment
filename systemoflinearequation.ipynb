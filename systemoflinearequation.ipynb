{
 "cells": [
  {
   "cell_type": "code",
   "execution_count": 18,
   "id": "aecea7d6-79a5-463f-bc10-fb08ca3206ec",
   "metadata": {},
   "outputs": [],
   "source": [
    "import numpy as np"
   ]
  },
  {
   "cell_type": "code",
   "execution_count": 36,
   "id": "6516078b-e2b6-4261-81ea-b2e694102fc5",
   "metadata": {},
   "outputs": [],
   "source": [
    "import numpy as np\n",
    "\n",
    "class NRSystem:\n",
    "    def __init__(self, X0, tolerance):\n",
    "        self.X0 = np.array(X0, dtype=float)\n",
    "        self.tolerance = tolerance\n",
    "\n",
    "    def f1(self, a, b):\n",
    "        return a**2 + b - a - 1\n",
    "\n",
    "    def f2(self, a, b):\n",
    "        return a**2 - 2*b**2 - b\n",
    "\n",
    "    def f1_dx(self, a, b):\n",
    "        return 2*a - 1\n",
    "\n",
    "    def f1_dy(self, a, b):\n",
    "        return 1\n",
    "\n",
    "    def f2_dx(self, a, b):\n",
    "        return 2*a\n",
    "\n",
    "    def f2_dy(self, a, b):\n",
    "        return -4*b - 1\n",
    "\n",
    "    def jacobian(self, a, b):\n",
    "        return np.array([\n",
    "            [self.f1_dx(a, b), self.f1_dy(a, b)],\n",
    "            [self.f2_dx(a, b), self.f2_dy(a, b)]\n",
    "        ])\n",
    "\n",
    "    def F(self, a, b):\n",
    "        return np.array([self.f1(a, b), self.f2(a, b)])\n",
    "\n",
    "    def update(self, a, b):\n",
    "        J = self.jacobian(a, b)\n",
    "        F_val = self.F(a, b)\n",
    "        delta = np.linalg.solve(J, -F_val)\n",
    "        return delta\n",
    "\n",
    "    def evaluate(self):\n",
    "        while True:\n",
    "            delta = self.update(self.X0[0], self.X0[1])\n",
    "            self.X0 += delta\n",
    "            if np.linalg.norm(delta, ord=2) < self.tolerance:\n",
    "                break\n",
    "        return self.X0\n"
   ]
  },
  {
   "cell_type": "code",
   "execution_count": 37,
   "id": "83eaa670-8c42-4fac-b497-1899241ad6a6",
   "metadata": {},
   "outputs": [],
   "source": [
    "nr=NRSystem([1,2],0.00001)"
   ]
  },
  {
   "cell_type": "code",
   "execution_count": 38,
   "id": "880e7e1a-ab85-462d-8218-c83ba885960e",
   "metadata": {},
   "outputs": [
    {
     "name": "stdout",
     "output_type": "stream",
     "text": [
      "[1.25865202 0.67444711]\n"
     ]
    }
   ],
   "source": [
    "print(nr.evaluate())"
   ]
  },
  {
   "cell_type": "code",
   "execution_count": null,
   "id": "10c369b6-379c-449d-ae3c-1987d45bbb93",
   "metadata": {},
   "outputs": [],
   "source": []
  }
 ],
 "metadata": {
  "kernelspec": {
   "display_name": "Python 3 (ipykernel)",
   "language": "python",
   "name": "python3"
  },
  "language_info": {
   "codemirror_mode": {
    "name": "ipython",
    "version": 3
   },
   "file_extension": ".py",
   "mimetype": "text/x-python",
   "name": "python",
   "nbconvert_exporter": "python",
   "pygments_lexer": "ipython3",
   "version": "3.12.7"
  }
 },
 "nbformat": 4,
 "nbformat_minor": 5
}
